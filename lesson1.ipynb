{
 "cells": [
  {
   "cell_type": "code",
   "execution_count": 3,
   "metadata": {},
   "outputs": [
    {
     "name": "stdout",
     "output_type": "stream",
     "text": [
      "Kết quả của b = a * 3 là: 9\n"
     ]
    }
   ],
   "source": [
    "a = input(\"Nhập vào a:\")\n",
    "b = int(a) * 3\n",
    "print(\"Kết quả của b = a * 3 là:\", b)"
   ]
  },
  {
   "cell_type": "code",
   "execution_count": 3,
   "metadata": {},
   "outputs": [
    {
     "name": "stdout",
     "output_type": "stream",
     "text": [
      "True\n"
     ]
    }
   ],
   "source": [
    "b = 12\n",
    "x = \"True\" if (b > 10) else \"False\"\n",
    "print(x)"
   ]
  },
  {
   "cell_type": "code",
   "execution_count": 4,
   "metadata": {},
   "outputs": [
    {
     "name": "stdout",
     "output_type": "stream",
     "text": [
      "Số chẵn\n"
     ]
    }
   ],
   "source": [
    "x = input(\"Nhập vào x:\")\n",
    "x = int(x)\n",
    "\n",
    "rs = \"Số chẵn\" if (x % 2 == 0) else \"Số lẻ\"\n",
    "print(rs)"
   ]
  },
  {
   "cell_type": "code",
   "execution_count": 7,
   "metadata": {},
   "outputs": [
    {
     "name": "stdout",
     "output_type": "stream",
     "text": [
      "Học sinh giỏi\n"
     ]
    }
   ],
   "source": [
    "x = input(\"Nhập vào x:\")\n",
    "x = int(x)\n",
    "\n",
    "if x >= 9:\n",
    "    print(\"Học sinh giỏi\")\n",
    "elif x >= 7:\n",
    "    print(\"Học sinh khá\")\n",
    "elif x >= 5:\n",
    "    print(\"Học sinh trung bình\")\n",
    "else:\n",
    "    print(\"Học sinh yếu\")"
   ]
  },
  {
   "cell_type": "code",
   "execution_count": 5,
   "metadata": {},
   "outputs": [
    {
     "name": "stdout",
     "output_type": "stream",
     "text": [
      "1 không phải là số nguyên tố\n",
      "2 là số nguyên tố\n",
      "3 là số nguyên tố\n",
      "4 không phải là số nguyên tố\n",
      "5 là số nguyên tố\n",
      "6 không phải là số nguyên tố\n",
      "7 là số nguyên tố\n",
      "8 không phải là số nguyên tố\n",
      "9 không phải là số nguyên tố\n",
      "10 không phải là số nguyên tố\n",
      "11 là số nguyên tố\n",
      "12 không phải là số nguyên tố\n",
      "13 là số nguyên tố\n",
      "14 không phải là số nguyên tố\n",
      "15 không phải là số nguyên tố\n",
      "16 không phải là số nguyên tố\n",
      "17 là số nguyên tố\n",
      "18 không phải là số nguyên tố\n",
      "19 là số nguyên tố\n",
      "20 không phải là số nguyên tố\n"
     ]
    }
   ],
   "source": [
    "def is_prime(n):\n",
    "    if n <= 1:\n",
    "        return False\n",
    "    for i in range(2, int(n**0.5) + 1):\n",
    "        if n % i == 0:\n",
    "            return False\n",
    "    return True\n",
    "\n",
    "# Kiểm tra các số từ 1 đến 20\n",
    "for num in range(1, 21):\n",
    "    if is_prime(num):\n",
    "        print(f\"{num} là số nguyên tố\")\n",
    "    else:\n",
    "        print(f\"{num} không phải là số nguyên tố\")"
   ]
  },
  {
   "cell_type": "markdown",
   "metadata": {},
   "source": [
    "## Giải phương trình bậc 2 \n",
    "# ax2 + bx + c = 0"
   ]
  },
  {
   "cell_type": "code",
   "execution_count": 11,
   "metadata": {},
   "outputs": [
    {
     "name": "stdout",
     "output_type": "stream",
     "text": [
      "Giải phương trình bậc 2: ax^2 + bx + c = 0\n",
      "Phương trình có 2 nghiệm phân biệt x1 = -0.6666666666666666, x2 = -1.0\n"
     ]
    }
   ],
   "source": [
    "print(\"Giải phương trình bậc 2: ax^2 + bx + c = 0\")\n",
    "\n",
    "a = float(input(\"Nhập vào a:\"))\n",
    "b = float(input(\"Nhập vào b:\"))\n",
    "c = float(input(\"Nhập vào c:\"))\n",
    "\n",
    "if a == 0:\n",
    "    if b == 0:\n",
    "        if c == 0:\n",
    "            print(\"Phương trình vô số nghiệm\")\n",
    "        else:\n",
    "            print(\"Phương trình vô nghiệm\")\n",
    "    else:\n",
    "        x = b/-c\n",
    "        print(f\"Phương trình có nghiệm x = {x}\")\n",
    "else:\n",
    "    delta = b**2 - 4*a*c\n",
    "    if delta < 0:\n",
    "        print(\"Phương trình vô nghiệm\")\n",
    "    elif delta == 0:\n",
    "        x = -b / (2*a)\n",
    "        print(f\"Phương trình có nghiệm kép x = {x}\")\n",
    "    else:\n",
    "        x1 = (-b + delta**0.5) / (2*a)\n",
    "        x2 = (-b - delta**0.5) / (2*a)\n",
    "        print(f\"Phương trình có 2 nghiệm phân biệt x1 = {x1}, x2 = {x2}\")"
   ]
  },
  {
   "cell_type": "markdown",
   "metadata": {},
   "source": [
    "# Tìm diện tích, chu vi tam giác"
   ]
  },
  {
   "cell_type": "code",
   "execution_count": 14,
   "metadata": {},
   "outputs": [
    {
     "name": "stdout",
     "output_type": "stream",
     "text": [
      "Chu vi của tam giác là 5.23606797749979\n",
      "Ba điểm A, B, C tạo thành một tam giác\n",
      "Diện tích của tam giác là 1.0\n"
     ]
    }
   ],
   "source": [
    "import math\n",
    "\n",
    "xA = float(input(\"Nhập vào xA:\"))\n",
    "yA = float(input(\"Nhập vào yA:\"))\n",
    "xB = float(input(\"Nhập vào xB:\"))\n",
    "yB = float(input(\"Nhập vào yB:\"))\n",
    "xC = float(input(\"Nhập vào xC:\"))\n",
    "yC = float(input(\"Nhập vào yC:\"))\n",
    "\n",
    "ab = math.sqrt((xA - xB)**2 + (yA - yB)**2)\n",
    "bc = math.sqrt((xB - xC)**2 + (yB - yC)**2)\n",
    "ac = math.sqrt((xC - xA)**2 + (yC - yA)**2)\n",
    "\n",
    "if ab + bc > ac and ab + ac > bc and bc + ac > ab:\n",
    "    # Tính chu vi tam giác\n",
    "    perimeter = ab + bc + ac\n",
    "    print(f\"Chu vi của tam giác là {perimeter}\")\n",
    "    \n",
    "    # Tính diện tích tam giác\n",
    "    print(\"Ba điểm A, B, C tạo thành một tam giác\")\n",
    "    s = perimeter / 2\n",
    "    area = math.sqrt(s * (s - ab) * (s - bc) * (s - ac))\n",
    "    print(f\"Diện tích của tam giác là {area}\")\n",
    "else:\n",
    "    print(\"Ba điểm A, B, C không tạo thành một tam giác\")\n",
    "    "
   ]
  }
 ],
 "metadata": {
  "kernelspec": {
   "display_name": "Python 3",
   "language": "python",
   "name": "python3"
  },
  "language_info": {
   "codemirror_mode": {
    "name": "ipython",
    "version": 3
   },
   "file_extension": ".py",
   "mimetype": "text/x-python",
   "name": "python",
   "nbconvert_exporter": "python",
   "pygments_lexer": "ipython3",
   "version": "3.13.1"
  }
 },
 "nbformat": 4,
 "nbformat_minor": 2
}
