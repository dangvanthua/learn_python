{
 "cells": [
  {
   "cell_type": "code",
   "execution_count": 3,
   "metadata": {},
   "outputs": [
    {
     "name": "stdout",
     "output_type": "stream",
     "text": [
      "Kết quả của b = a * 3 là: 9\n"
     ]
    }
   ],
   "source": [
    "a = input(\"Nhập vào a:\")\n",
    "b = int(a) * 3\n",
    "print(\"Kết quả của b = a * 3 là:\", b)"
   ]
  },
  {
   "cell_type": "code",
   "execution_count": 3,
   "metadata": {},
   "outputs": [
    {
     "name": "stdout",
     "output_type": "stream",
     "text": [
      "True\n"
     ]
    }
   ],
   "source": [
    "b = 12\n",
    "x = \"True\" if (b > 10) else \"False\"\n",
    "print(x)"
   ]
  },
  {
   "cell_type": "code",
   "execution_count": 4,
   "metadata": {},
   "outputs": [
    {
     "name": "stdout",
     "output_type": "stream",
     "text": [
      "Số chẵn\n"
     ]
    }
   ],
   "source": [
    "x = input(\"Nhập vào x:\")\n",
    "x = int(x)\n",
    "\n",
    "rs = \"Số chẵn\" if (x % 2 == 0) else \"Số lẻ\"\n",
    "print(rs)"
   ]
  },
  {
   "cell_type": "code",
   "execution_count": 5,
   "metadata": {},
   "outputs": [
    {
     "name": "stdout",
     "output_type": "stream",
     "text": [
      "1 không phải là số nguyên tố\n",
      "2 là số nguyên tố\n",
      "3 là số nguyên tố\n",
      "4 không phải là số nguyên tố\n",
      "5 là số nguyên tố\n",
      "6 không phải là số nguyên tố\n",
      "7 là số nguyên tố\n",
      "8 không phải là số nguyên tố\n",
      "9 không phải là số nguyên tố\n",
      "10 không phải là số nguyên tố\n",
      "11 là số nguyên tố\n",
      "12 không phải là số nguyên tố\n",
      "13 là số nguyên tố\n",
      "14 không phải là số nguyên tố\n",
      "15 không phải là số nguyên tố\n",
      "16 không phải là số nguyên tố\n",
      "17 là số nguyên tố\n",
      "18 không phải là số nguyên tố\n",
      "19 là số nguyên tố\n",
      "20 không phải là số nguyên tố\n"
     ]
    }
   ],
   "source": [
    "def is_prime(n):\n",
    "    if n <= 1:\n",
    "        return False\n",
    "    for i in range(2, int(n**0.5) + 1):\n",
    "        if n % i == 0:\n",
    "            return False\n",
    "    return True\n",
    "\n",
    "# Kiểm tra các số từ 1 đến 20\n",
    "for num in range(1, 21):\n",
    "    if is_prime(num):\n",
    "        print(f\"{num} là số nguyên tố\")\n",
    "    else:\n",
    "        print(f\"{num} không phải là số nguyên tố\")"
   ]
  },
  {
   "cell_type": "code",
   "execution_count": null,
   "metadata": {},
   "outputs": [],
   "source": []
  },
  {
   "cell_type": "code",
   "execution_count": 2,
   "metadata": {},
   "outputs": [
    {
     "name": "stdout",
     "output_type": "stream",
     "text": [
      "Sorted array: [1, 2, 3, 4, 5, 6, 7, 8]\n"
     ]
    }
   ],
   "source": [
    "def selection_sort(arr):\n",
    "    # Traverse through all array elements\n",
    "    for i in range(len(arr)):\n",
    "        # Find the minimum element in remaining unsorted array\n",
    "        min_idx = i\n",
    "        for j in range(i+1, len(arr)):\n",
    "            if arr[min_idx] > arr[j]:\n",
    "                min_idx = j\n",
    "                \n",
    "        # Swap the found minimum element with the first element\n",
    "        arr[i], arr[min_idx] = arr[min_idx], arr[i]\n",
    "    return arr\n",
    "\n",
    "# Example usage\n",
    "arr = [a, b, 3, 1, 5, 2, 4, 6]\n",
    "sorted_arr = selection_sort(arr)\n",
    "print(\"Sorted array:\", sorted_arr)"
   ]
  }
 ],
 "metadata": {
  "kernelspec": {
   "display_name": "Python 3",
   "language": "python",
   "name": "python3"
  },
  "language_info": {
   "codemirror_mode": {
    "name": "ipython",
    "version": 3
   },
   "file_extension": ".py",
   "mimetype": "text/x-python",
   "name": "python",
   "nbconvert_exporter": "python",
   "pygments_lexer": "ipython3",
   "version": "3.13.1"
  }
 },
 "nbformat": 4,
 "nbformat_minor": 2
}
