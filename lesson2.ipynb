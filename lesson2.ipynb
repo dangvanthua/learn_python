{
 "cells": [
  {
   "cell_type": "code",
   "execution_count": 14,
   "metadata": {},
   "outputs": [
    {
     "name": "stdout",
     "output_type": "stream",
     "text": [
      "['red', 'green', 'blue', 'yellow', 'white', 'black']\n",
      "['green', 'blue', 'yellow']\n"
     ]
    }
   ],
   "source": [
    "# List\n",
    "colors = ['red', 'green', 'blue', 'yellow', 'white', 'black']\n",
    "print(colors)\n",
    "print(colors[1:4])\n"
   ]
  },
  {
   "cell_type": "code",
   "execution_count": 9,
   "metadata": {},
   "outputs": [
    {
     "name": "stdout",
     "output_type": "stream",
     "text": [
      "Thêm phần tử vào cuối mảng\n",
      "['pink', 'black', 'white', 'yellow', 'orange', 'green', 'pink']\n"
     ]
    }
   ],
   "source": [
    "colors.append('pink')\n",
    "print(\"Thêm phần tử vào cuối mảng\")\n",
    "print(colors)"
   ]
  },
  {
   "cell_type": "code",
   "execution_count": 10,
   "metadata": {},
   "outputs": [
    {
     "name": "stdout",
     "output_type": "stream",
     "text": [
      "Phần tử thêm vào thứ 2\n",
      "['pink', 'black', 'orange', 'white', 'yellow', 'orange', 'green', 'pink']\n"
     ]
    }
   ],
   "source": [
    "colors.insert(2, 'orange')\n",
    "print(\"Phần tử thêm vào thứ 2\")\n",
    "print(colors)"
   ]
  },
  {
   "cell_type": "code",
   "execution_count": 11,
   "metadata": {},
   "outputs": [
    {
     "name": "stdout",
     "output_type": "stream",
     "text": [
      "Đến số lượng phần tử\n",
      "0\n"
     ]
    }
   ],
   "source": [
    "print(\"Đến số lượng phần tử\")\n",
    "print(colors.count('red'))"
   ]
  },
  {
   "cell_type": "code",
   "execution_count": 12,
   "metadata": {},
   "outputs": [],
   "source": [
    "# remove item\n",
    "if \"red\" in colors: \n",
    "    colors.remove('red')\n",
    "    print(colors)"
   ]
  },
  {
   "cell_type": "code",
   "execution_count": 13,
   "metadata": {},
   "outputs": [
    {
     "name": "stdout",
     "output_type": "stream",
     "text": [
      "['pink', 'black', 'white', 'yellow', 'orange', 'green', 'pink']\n"
     ]
    }
   ],
   "source": [
    "colors.pop(2)\n",
    "print(colors)"
   ]
  },
  {
   "cell_type": "code",
   "execution_count": 15,
   "metadata": {},
   "outputs": [
    {
     "name": "stdout",
     "output_type": "stream",
     "text": [
      "['black', 'white', 'yellow', 'blue', 'green', 'red']\n"
     ]
    }
   ],
   "source": [
    "# reverse list\n",
    "colors.reverse()\n",
    "print(colors)"
   ]
  },
  {
   "cell_type": "code",
   "execution_count": 16,
   "metadata": {},
   "outputs": [
    {
     "name": "stdout",
     "output_type": "stream",
     "text": [
      "[]\n"
     ]
    }
   ],
   "source": [
    "# clear list\n",
    "colors.clear()\n",
    "print(colors)"
   ]
  },
  {
   "cell_type": "code",
   "execution_count": 2,
   "metadata": {},
   "outputs": [
    {
     "name": "stdout",
     "output_type": "stream",
     "text": [
      "Sorted array: [1, 2, 3, 4, 5, 6]\n"
     ]
    }
   ],
   "source": [
    "def selection_sort(arr):\n",
    "\n",
    "    for i in range(len(arr)):\n",
    "       \n",
    "        min_idx = i\n",
    "        for j in range(i+1, len(arr)):\n",
    "            if arr[min_idx] > arr[j]:\n",
    "                min_idx = j\n",
    "                \n",
    "        arr[i], arr[min_idx] = arr[min_idx], arr[i]\n",
    "    return arr\n",
    "\n",
    "arr = [3, 1, 5, 2, 4, 6]\n",
    "sorted_arr = selection_sort(arr)\n",
    "print(\"Sorted array:\", sorted_arr)"
   ]
  }
 ],
 "metadata": {
  "kernelspec": {
   "display_name": "Python 3",
   "language": "python",
   "name": "python3"
  },
  "language_info": {
   "codemirror_mode": {
    "name": "ipython",
    "version": 3
   },
   "file_extension": ".py",
   "mimetype": "text/x-python",
   "name": "python",
   "nbconvert_exporter": "python",
   "pygments_lexer": "ipython3",
   "version": "3.13.1"
  }
 },
 "nbformat": 4,
 "nbformat_minor": 2
}
